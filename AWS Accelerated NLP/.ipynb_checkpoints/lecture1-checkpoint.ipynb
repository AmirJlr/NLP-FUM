{
 "cells": [
  {
   "cell_type": "code",
   "execution_count": 2,
   "id": "4e96662c",
   "metadata": {},
   "outputs": [],
   "source": [
    "import nltk\n",
    "from nltk import sent_tokenize, word_tokenize\n",
    "from nltk.stem import PorterStemmer, WordNetLemmatizer, SnowballStemmer"
   ]
  },
  {
   "cell_type": "code",
   "execution_count": 12,
   "id": "028605f9",
   "metadata": {},
   "outputs": [],
   "source": [
    "def stemmer(sentence, stemmerName = porter):\n",
    "    \"\"\"\n",
    "    parameters : stemmerName, sentence\n",
    "    - stemmerName :\n",
    "        > porter(~PorterStemmer)\n",
    "        > snow(~SnowballStemmer)\n",
    "    - sentence : string \n",
    "    \n",
    "    >>> stemmer(\"snow\", \"connecting connection connection\")\n",
    "    >>> ['connect', 'connect', 'connect']\n",
    "    \n",
    "    \"\"\"\n",
    "    if stemmerName == \"porter\":\n",
    "        stemmer = PorterStemmer()\n",
    "    elif stemmerName == \"snow\":\n",
    "        stemmer = SnowballStemmer('english')\n",
    "    \n",
    "    tokens = nltk.word_tokenize(sentence)\n",
    "    \n",
    "    for token in tokens:\n",
    "        porter_tokens.append(stemmer.stem(token))\n",
    "        \n",
    "    return porter_tokens\n",
    "    "
   ]
  },
  {
   "cell_type": "code",
   "execution_count": null,
   "id": "a17f1603",
   "metadata": {},
   "outputs": [],
   "source": []
  }
 ],
 "metadata": {
  "kernelspec": {
   "display_name": "Python 3 (ipykernel)",
   "language": "python",
   "name": "python3"
  },
  "language_info": {
   "codemirror_mode": {
    "name": "ipython",
    "version": 3
   },
   "file_extension": ".py",
   "mimetype": "text/x-python",
   "name": "python",
   "nbconvert_exporter": "python",
   "pygments_lexer": "ipython3",
   "version": "3.9.13"
  }
 },
 "nbformat": 4,
 "nbformat_minor": 5
}
