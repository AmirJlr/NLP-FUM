{
 "cells": [
  {
   "cell_type": "markdown",
   "id": "107829bd",
   "metadata": {},
   "source": [
    "## Excercise 1"
   ]
  },
  {
   "cell_type": "code",
   "execution_count": 1,
   "id": "b75cdd15",
   "metadata": {},
   "outputs": [],
   "source": [
    "import requests\n",
    "from bs4 import BeautifulSoup\n",
    "\n",
    "import re\n",
    "import pandas as pd"
   ]
  },
  {
   "cell_type": "code",
   "execution_count": 2,
   "id": "b6efb54b",
   "metadata": {},
   "outputs": [],
   "source": [
    "url = 'https://bookroo.com/quotes/anne-of-green-gables'\n",
    "site = requests.get(url)\n",
    "soup = BeautifulSoup(site.text, 'html.parser')"
   ]
  },
  {
   "cell_type": "code",
   "execution_count": 3,
   "id": "f3393a1b",
   "metadata": {},
   "outputs": [],
   "source": [
    "quotes = []\n",
    "characters = []\n",
    "\n",
    "for block in soup.find_all('div', id=re.compile('\\d{4}')):\n",
    "    quote1 = block.find_all('div', class_='css-eez2cp')\n",
    "    quote2 = [q.text for q in quote1]\n",
    "    \n",
    "    char1 = block.find_all('a', class_='chakra-link css-1s1o1fc')\n",
    "    char2 = [c.text for c in char1]\n",
    "    \n",
    "    quotes.append(quote2[0])\n",
    "    \n",
    "    if len(char2) == 0:\n",
    "        characters.append(' ')\n",
    "    elif len(char2) == 1:\n",
    "        characters.append(char2[0])\n",
    "    elif len(char2) == 2:\n",
    "        characters.append(f\"{char2[0]}, {char2[1]}\")\n",
    "    \n",
    "    "
   ]
  },
  {
   "cell_type": "code",
   "execution_count": 4,
   "id": "645a3a2d",
   "metadata": {},
   "outputs": [],
   "source": [
    "df = pd.DataFrame({\"Quotes\":quotes, \"Characters\":characters})"
   ]
  },
  {
   "cell_type": "code",
   "execution_count": 5,
   "id": "9dde37ad",
   "metadata": {},
   "outputs": [],
   "source": [
    "df.to_csv('anne.csv')"
   ]
  },
  {
   "cell_type": "code",
   "execution_count": 6,
   "id": "99522946",
   "metadata": {},
   "outputs": [
    {
     "data": {
      "text/html": [
       "<div>\n",
       "<style scoped>\n",
       "    .dataframe tbody tr th:only-of-type {\n",
       "        vertical-align: middle;\n",
       "    }\n",
       "\n",
       "    .dataframe tbody tr th {\n",
       "        vertical-align: top;\n",
       "    }\n",
       "\n",
       "    .dataframe thead th {\n",
       "        text-align: right;\n",
       "    }\n",
       "</style>\n",
       "<table border=\"1\" class=\"dataframe\">\n",
       "  <thead>\n",
       "    <tr style=\"text-align: right;\">\n",
       "      <th></th>\n",
       "      <th>Quotes</th>\n",
       "      <th>Characters</th>\n",
       "    </tr>\n",
       "  </thead>\n",
       "  <tbody>\n",
       "    <tr>\n",
       "      <th>0</th>\n",
       "      <td>“I’m so glad I live in a world where there are...</td>\n",
       "      <td>Anne Shirley</td>\n",
       "    </tr>\n",
       "    <tr>\n",
       "      <th>1</th>\n",
       "      <td>“But if you call me Anne, please call me Anne ...</td>\n",
       "      <td>Anne Shirley</td>\n",
       "    </tr>\n",
       "    <tr>\n",
       "      <th>2</th>\n",
       "      <td>“I’m not a bit changed--not really. I’m only j...</td>\n",
       "      <td>Anne Shirley</td>\n",
       "    </tr>\n",
       "    <tr>\n",
       "      <th>3</th>\n",
       "      <td>“When I left Queen’s my future seemed to stret...</td>\n",
       "      <td>Anne Shirley, Marilla Cuthbert</td>\n",
       "    </tr>\n",
       "    <tr>\n",
       "      <th>4</th>\n",
       "      <td>“It’s so easy to be wicked without knowing it,...</td>\n",
       "      <td>Anne Shirley</td>\n",
       "    </tr>\n",
       "  </tbody>\n",
       "</table>\n",
       "</div>"
      ],
      "text/plain": [
       "                                              Quotes  \\\n",
       "0  “I’m so glad I live in a world where there are...   \n",
       "1  “But if you call me Anne, please call me Anne ...   \n",
       "2  “I’m not a bit changed--not really. I’m only j...   \n",
       "3  “When I left Queen’s my future seemed to stret...   \n",
       "4  “It’s so easy to be wicked without knowing it,...   \n",
       "\n",
       "                       Characters  \n",
       "0                    Anne Shirley  \n",
       "1                    Anne Shirley  \n",
       "2                    Anne Shirley  \n",
       "3  Anne Shirley, Marilla Cuthbert  \n",
       "4                    Anne Shirley  "
      ]
     },
     "execution_count": 6,
     "metadata": {},
     "output_type": "execute_result"
    }
   ],
   "source": [
    "df.head()"
   ]
  },
  {
   "cell_type": "code",
   "execution_count": 7,
   "id": "9d903eb0",
   "metadata": {},
   "outputs": [
    {
     "data": {
      "text/plain": [
       "array(['Anne Shirley', 'Anne Shirley, Marilla Cuthbert',\n",
       "       'Matthew Cuthbert', 'Jane Andrews', ' ',\n",
       "       'Anne Shirley, Mrs. Allen'], dtype=object)"
      ]
     },
     "execution_count": 7,
     "metadata": {},
     "output_type": "execute_result"
    }
   ],
   "source": [
    "df['Characters'].unique()"
   ]
  },
  {
   "cell_type": "code",
   "execution_count": 8,
   "id": "21525188",
   "metadata": {},
   "outputs": [],
   "source": [
    "def lookup(name):\n",
    "    return df[df.Characters == name].Quotes"
   ]
  },
  {
   "cell_type": "code",
   "execution_count": 9,
   "id": "c3bc3efc",
   "metadata": {},
   "outputs": [
    {
     "data": {
      "text/plain": [
       "3     “When I left Queen’s my future seemed to stret...\n",
       "17    “But really, Marilla, one can’t stay sad very ...\n",
       "34    “But have you ever noticed one encouraging thi...\n",
       "Name: Quotes, dtype: object"
      ]
     },
     "execution_count": 9,
     "metadata": {},
     "output_type": "execute_result"
    }
   ],
   "source": [
    "lookup('Anne Shirley, Marilla Cuthbert')"
   ]
  }
 ],
 "metadata": {
  "kernelspec": {
   "display_name": "Python 3 (ipykernel)",
   "language": "python",
   "name": "python3"
  },
  "language_info": {
   "codemirror_mode": {
    "name": "ipython",
    "version": 3
   },
   "file_extension": ".py",
   "mimetype": "text/x-python",
   "name": "python",
   "nbconvert_exporter": "python",
   "pygments_lexer": "ipython3",
   "version": "3.9.13"
  }
 },
 "nbformat": 4,
 "nbformat_minor": 5
}
